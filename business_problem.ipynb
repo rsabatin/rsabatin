{
 "cells": [
  {
   "cell_type": "markdown",
   "metadata": {},
   "source": [
    "# Business Problem"
   ]
  },
  {
   "cell_type": "markdown",
   "metadata": {},
   "source": [
    "\n",
    "My wife and I will be moving to Toronto shortly, and we would like to open an Italian restaurant. However, Toronto is a big city with many neighbourhoods. How should we pick the right neighbourhood to start our business? This type of study is important for us but will also interest anyone who is trying to rank neighbourhoods for various purposes. With this problem, a key aspect is to determine the criteria over which neighbourhoods will be ranked. Why would one neighbourhood be better than another? Specifically, what metrics will be chosen?\n",
    "\n",
    "We have chosen four key metrics in this aim:\n",
    "\n",
    "1.\tLow percentage of Italian restaurants.\n",
    "a.\tIn Canada, we believe that Italian food is very much a staple. Therefore, the lack of Italian restaurants in an area may not mean that it is undesirable. In fact, we expect that opening a restaurant in an area with few Italian restaurants may result in less competition and greater sales.\n",
    "2.\tHigh salary of residents\n",
    "a.\tPeople with high salaries have the means of going out to eat. A restaurant in a more well-off area may be able to sustain higher prices for the food.\n",
    "3.\tPopulation density\n",
    "a.\tIf there are more people in a given neighbourhood, then a given conversion percentage will result in more people eating at the restaurant.\n",
    "4.\tLow average ratings of current Italian restaurants\n",
    "a.\tIf there are multiple Italian restaurants in a neighbourhood, people may look up ratings to decide where to get their food. Our restaurant may struggle more in a neighbourhood that already has very highly rated Italian restaurants.\n"
   ]
  },
  {
   "cell_type": "code",
   "execution_count": null,
   "metadata": {},
   "outputs": [],
   "source": []
  }
 ],
 "metadata": {
  "kernelspec": {
   "display_name": "Python",
   "language": "python",
   "name": "conda-env-python-py"
  },
  "language_info": {
   "codemirror_mode": {
    "name": "ipython",
    "version": 3
   },
   "file_extension": ".py",
   "mimetype": "text/x-python",
   "name": "python",
   "nbconvert_exporter": "python",
   "pygments_lexer": "ipython3",
   "version": "3.6.10"
  }
 },
 "nbformat": 4,
 "nbformat_minor": 4
}
