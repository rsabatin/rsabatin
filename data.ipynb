{
 "cells": [
  {
   "cell_type": "markdown",
   "metadata": {},
   "source": [
    "# Data"
   ]
  },
  {
   "cell_type": "markdown",
   "metadata": {},
   "source": [
    "We will begin with data from Wikipedia on the different neighbourhoods of Toronto (https://en.wikipedia.org/wiki/Demographics_of_Toronto_neighbourhoods). This will include the name of the neighbourhood, population, land area, and average income. We will then extract latitude and longitude coordinates using geolocator. From the coordinates, we will retrieve information from FourSquare, including the number of restaurants, the percentage of Italian restaurants, and ratings of each Italian restaurant."
   ]
  }
 ],
 "metadata": {
  "kernelspec": {
   "display_name": "Python",
   "language": "python",
   "name": "conda-env-python-py"
  },
  "language_info": {
   "codemirror_mode": {
    "name": "ipython",
    "version": 3
   },
   "file_extension": ".py",
   "mimetype": "text/x-python",
   "name": "python",
   "nbconvert_exporter": "python",
   "pygments_lexer": "ipython3",
   "version": "3.6.10"
  }
 },
 "nbformat": 4,
 "nbformat_minor": 4
}
